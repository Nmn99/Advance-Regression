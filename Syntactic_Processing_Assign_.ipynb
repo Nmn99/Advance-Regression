{
  "nbformat": 4,
  "nbformat_minor": 0,
  "metadata": {
    "colab": {
      "provenance": [],
      "authorship_tag": "ABX9TyP9hekifuwqy8Kf6i5JrLYX",
      "include_colab_link": true
    },
    "kernelspec": {
      "name": "python3",
      "display_name": "Python 3"
    },
    "language_info": {
      "name": "python"
    }
  },
  "cells": [
    {
      "cell_type": "markdown",
      "metadata": {
        "id": "view-in-github",
        "colab_type": "text"
      },
      "source": [
        "<a href=\"https://colab.research.google.com/github/Nmn99/Advance-Regression/blob/main/Syntactic_Processing_Assign_.ipynb\" target=\"_parent\"><img src=\"https://colab.research.google.com/assets/colab-badge.svg\" alt=\"Open In Colab\"/></a>"
      ]
    },
    {
      "cell_type": "code",
      "source": [
        "from google.colab import drive\n",
        "drive.mount('/content/drive')"
      ],
      "metadata": {
        "colab": {
          "base_uri": "https://localhost:8080/"
        },
        "id": "lHqYj5W2Ww2H",
        "outputId": "0d140e64-70e8-4294-d23d-e6a2fdfe88dd"
      },
      "execution_count": 47,
      "outputs": [
        {
          "output_type": "stream",
          "name": "stdout",
          "text": [
            "Drive already mounted at /content/drive; to attempt to forcibly remount, call drive.mount(\"/content/drive\", force_remount=True).\n"
          ]
        }
      ]
    },
    {
      "cell_type": "markdown",
      "source": [
        "# Data Pre-processing"
      ],
      "metadata": {
        "id": "VUM9vEl-aULs"
      }
    },
    {
      "cell_type": "code",
      "source": [
        "# prompt: split data sentence at blank cell\n",
        "\n",
        "from google.colab import drive\n",
        "drive.mount('/content/drive')\n",
        "\n",
        "with open('/content/drive/MyDrive/train_sent', 'r') as train_sent_file:\n",
        "  train_sentences = train_sent_file.readlines()\n",
        "\n",
        "with open('/content/drive/MyDrive/train_label', 'r') as train_labels_file:\n",
        "  train_labels = train_labels_file.readlines()\n",
        "\n",
        "with open('/content/drive/MyDrive/test_sent', 'r') as test_sent_file:\n",
        "  test_sentences = test_sent_file.readlines()\n",
        "\n",
        "with open('/content/drive/MyDrive/test_label', 'r') as test_labels_file:\n",
        "  test_labels = test_labels_file.readlines()\n",
        "\n",
        "# Split the sentences at blank lines\n",
        "train_sentences_split = []\n",
        "current_sentence = \"\"\n",
        "for sentence in train_sentences:\n",
        "  if sentence.strip() == \"\":\n",
        "    if current_sentence:\n",
        "      train_sentences_split.append(current_sentence.strip())\n",
        "      current_sentence = \"\"\n",
        "  else:\n",
        "    current_sentence += sentence\n",
        "if current_sentence:\n",
        "  train_sentences_split.append(current_sentence.strip())\n",
        "\n",
        "# You can apply the same logic to other lists (train_labels, test_sentences, test_labels)\n",
        "# Example for test_sentences:\n",
        "test_sentences_split = []\n",
        "current_sentence = \"\"\n",
        "for sentence in test_sentences:\n",
        "  if sentence.strip() == \"\":\n",
        "    if current_sentence:\n",
        "      test_sentences_split.append(current_sentence.strip())\n",
        "      current_sentence = \"\"\n",
        "  else:\n",
        "    current_sentence += sentence\n",
        "if current_sentence:\n",
        "    test_sentences_split.append(current_sentence.strip())\n",
        "\n",
        "# Now train_sentences_split and test_sentences_split contain sentences split at blank lines\n",
        "# You can print or further process these lists.\n",
        "print(len(train_sentences_split))\n",
        "print(len(test_sentences_split))"
      ],
      "metadata": {
        "colab": {
          "base_uri": "https://localhost:8080/"
        },
        "id": "PDGu6mOCXJ9q",
        "outputId": "78c137ca-ca2e-4423-c9d8-35de670b26e8"
      },
      "execution_count": 48,
      "outputs": [
        {
          "output_type": "stream",
          "name": "stdout",
          "text": [
            "Drive already mounted at /content/drive; to attempt to forcibly remount, call drive.mount(\"/content/drive\", force_remount=True).\n",
            "2599\n",
            "1056\n"
          ]
        }
      ]
    },
    {
      "cell_type": "code",
      "source": [
        "# prompt: split label at the same length as sentences\n",
        "\n",
        "train_labels_split = []\n",
        "current_label = \"\"\n",
        "for label in train_labels:\n",
        "  if label.strip() == \"\":\n",
        "    if current_label:\n",
        "      train_labels_split.append(current_label.strip())\n",
        "      current_label = \"\"\n",
        "  else:\n",
        "    current_label += label\n",
        "if current_label:\n",
        "  train_labels_split.append(current_label.strip())\n",
        "\n",
        "test_labels_split = []\n",
        "current_label = \"\"\n",
        "for label in test_labels:\n",
        "  if label.strip() == \"\":\n",
        "    if current_label:\n",
        "      test_labels_split.append(current_label.strip())\n",
        "      current_label = \"\"\n",
        "  else:\n",
        "    current_label += label\n",
        "if current_label:\n",
        "  test_labels_split.append(current_label.strip())\n",
        "\n",
        "print(len(train_labels_split))\n",
        "print(len(test_labels_split))\n",
        "\n",
        "#Check if the lengths of sentences and labels are equal\n",
        "if len(train_sentences_split) != len(train_labels_split):\n",
        "  print(\"Warning: Number of train sentences and labels do not match.\")\n",
        "if len(test_sentences_split) != len(test_labels_split):\n",
        "  print(\"Warning: Number of test sentences and labels do not match.\")"
      ],
      "metadata": {
        "colab": {
          "base_uri": "https://localhost:8080/"
        },
        "id": "LZzNfiPrXLoV",
        "outputId": "6bbd168e-b09c-401a-f627-c255cb4a7b63"
      },
      "execution_count": 49,
      "outputs": [
        {
          "output_type": "stream",
          "name": "stdout",
          "text": [
            "2599\n",
            "1056\n"
          ]
        }
      ]
    },
    {
      "cell_type": "code",
      "source": [
        "# prompt: print sentence and label 10\n",
        "\n",
        "print(train_sentences_split[10])\n",
        "train_labels_split[10]\n"
      ],
      "metadata": {
        "colab": {
          "base_uri": "https://localhost:8080/",
          "height": 417
        },
        "id": "kGNspH7bXXFi",
        "outputId": "ddc051cc-2549-4b6b-ee18-792706fda737"
      },
      "execution_count": 50,
      "outputs": [
        {
          "output_type": "stream",
          "name": "stdout",
          "text": [
            "A\n",
            "2-\n",
            ",\n",
            "3-\n",
            ",\n",
            "and\n",
            "4-day\n",
            "mean\n",
            "temperature\n",
            "prior\n",
            "to\n",
            "the\n",
            "test\n",
            "date\n",
            "was\n",
            "compared\n",
            "to\n",
            "AFI\n",
            "using\n",
            "a\n",
            "Spearman-rank\n",
            "Correlation\n"
          ]
        },
        {
          "output_type": "execute_result",
          "data": {
            "text/plain": [
              "'O\\nO\\nO\\nO\\nO\\nO\\nO\\nO\\nO\\nO\\nO\\nO\\nO\\nO\\nO\\nO\\nO\\nO\\nO\\nO\\nO\\nO'"
            ],
            "application/vnd.google.colaboratory.intrinsic+json": {
              "type": "string"
            }
          },
          "metadata": {},
          "execution_count": 50
        }
      ]
    },
    {
      "cell_type": "markdown",
      "source": [
        "# Concept identification"
      ],
      "metadata": {
        "id": "81EdjYUFapkO"
      }
    },
    {
      "cell_type": "code",
      "source": [
        "# prompt: We use POS Taggging to identify the top 25 nouns and pronouns present in the data\n",
        "\n",
        "import nltk\n",
        "from collections import Counter\n",
        "\n",
        "nltk.download('punkt')\n",
        "nltk.download('averaged_perceptron_tagger')\n",
        "\n",
        "def identify_top_nouns_pronouns(sentences):\n",
        "    \"\"\"\n",
        "    Identifies the top 25 nouns and pronouns in a list of sentences.\n",
        "\n",
        "    Args:\n",
        "    sentences: A list of strings, where each string is a sentence.\n",
        "\n",
        "    Returns:\n",
        "    A list of tuples, where each tuple contains a word and its count,\n",
        "    sorted in descending order of count.\n",
        "    \"\"\"\n",
        "\n",
        "    nouns_pronouns = []\n",
        "    for sentence in sentences:\n",
        "        tokens = nltk.word_tokenize(sentence)\n",
        "        tagged_tokens = nltk.pos_tag(tokens)\n",
        "        for word, tag in tagged_tokens:\n",
        "            if tag.startswith('NN') or tag.startswith('PRP'):  # Noun or pronoun\n",
        "                nouns_pronouns.append(word.lower()) # Lowercase for consistent counting\n",
        "\n",
        "    word_counts = Counter(nouns_pronouns)\n",
        "    top_25 = word_counts.most_common(25)\n",
        "    return top_25\n",
        "\n",
        "\n",
        "top_nouns_pronouns_train = identify_top_nouns_pronouns(train_sentences_split)\n",
        "print(\"Top 25 nouns and pronouns in training data:\")\n",
        "print(top_nouns_pronouns_train)\n",
        "\n"
      ],
      "metadata": {
        "colab": {
          "base_uri": "https://localhost:8080/"
        },
        "id": "smNUM7evYjLr",
        "outputId": "b14e6939-d4f6-428e-add8-af6868a59e94"
      },
      "execution_count": 51,
      "outputs": [
        {
          "output_type": "stream",
          "name": "stderr",
          "text": [
            "[nltk_data] Downloading package punkt to /root/nltk_data...\n",
            "[nltk_data]   Package punkt is already up-to-date!\n",
            "[nltk_data] Downloading package averaged_perceptron_tagger to\n",
            "[nltk_data]     /root/nltk_data...\n",
            "[nltk_data]   Package averaged_perceptron_tagger is already up-to-\n",
            "[nltk_data]       date!\n"
          ]
        },
        {
          "output_type": "stream",
          "name": "stdout",
          "text": [
            "Top 25 nouns and pronouns in training data:\n",
            "[('patients', 366), ('treatment', 209), ('%', 161), ('cancer', 144), ('therapy', 122), ('study', 121), ('we', 108), ('disease', 105), ('lung', 86), ('results', 84), ('cell', 74), ('group', 71), ('effects', 71), ('use', 65), ('chemotherapy', 63), ('>', 60), ('gene', 57), ('effect', 57), ('to_see', 55), ('health', 54), ('women', 51), ('surgery', 51), ('patient', 50), ('children', 49), ('risk', 48)]\n"
          ]
        }
      ]
    },
    {
      "cell_type": "markdown",
      "source": [
        "# Defining the features for CRF"
      ],
      "metadata": {
        "id": "uQqCsulrvYNf"
      }
    },
    {
      "cell_type": "code",
      "source": [
        "# prompt:  define a function getFeaturesForOneWord(sentence, pos):\n",
        "# Word-Level Features:\n",
        "# Word Itself: The actual word, often lowercased.\n",
        "# Word Shape: Information about the word's capitalization (e.g., all uppercase, all lowercase, title case, mixed case).\n",
        "# Word Length: The length of the word.\n",
        "# Prefix and Suffix: The first few and last few characters of the word.\n",
        "# Part-of-Speech (POS) Tag: The grammatical role of the word (e.g., noun, verb, adjective).\n",
        "# Contextual Features:\n",
        "# Previous Word: The previous word in the sentence.\n",
        "# Next Word: The next word in the sentence.\n",
        "# Previous Tag: The NER tag of the previous word.\n",
        "# Next Tag: The NER tag of the next word.\n",
        "# Sentence Position: The position of the word within the sentence (e.g., beginning, middle, end).\n",
        "\n",
        "def getFeaturesForOneWord(sentence, pos):\n",
        "    \"\"\"\n",
        "    Extracts features for a single word in a sentence.\n",
        "\n",
        "    Args:\n",
        "        sentence: The sentence as a list of words.\n",
        "        pos: The position of the word in the sentence.\n",
        "\n",
        "    Returns:\n",
        "        A dictionary of features.\n",
        "    \"\"\"\n",
        "\n",
        "    word = sentence[pos]\n",
        "    features = {}\n",
        "\n",
        "    # Word-Level Features\n",
        "    features['word'] = word.lower()\n",
        "    features['word_shape'] = get_word_shape(word)\n",
        "    features['word_length'] = len(word)\n",
        "    features['prefix'] = word[:3] if len(word) > 3 else word\n",
        "    features['suffix'] = word[-3:] if len(word) > 3 else word\n",
        "\n",
        "    # Assuming you have POS tags available (you'd need to compute these)\n",
        "    # Replace with your actual POS tagging mechanism\n",
        "    try:\n",
        "      features['pos_tag'] = nltk.pos_tag([word])[0][1]\n",
        "    except:\n",
        "      features['pos_tag'] = 'UNK'\n",
        "\n",
        "    # Contextual Features\n",
        "    if pos > 0:\n",
        "        features['prev_word'] = sentence[pos - 1].lower()\n",
        "    else:\n",
        "        features['prev_word'] = \"<START>\"\n",
        "\n",
        "    if pos < len(sentence) - 1:\n",
        "        features['next_word'] = sentence[pos + 1].lower()\n",
        "    else:\n",
        "        features['next_word'] = \"<END>\"\n",
        "\n",
        "    # Placeholder for previous and next tags (replace with actual tags)\n",
        "    features['prev_tag'] = \"<START>\"  # Replace with actual previous NER tag\n",
        "    features['next_tag'] = \"<END>\"  # Replace with actual next NER tag\n",
        "\n",
        "    features['sentence_position'] = pos / len(sentence)  # Normalized position\n",
        "\n",
        "    return features\n",
        "\n",
        "def get_word_shape(word):\n",
        "  if word.isupper():\n",
        "    return 'all_caps'\n",
        "  elif word.islower():\n",
        "    return 'all_lower'\n",
        "  elif word.istitle():\n",
        "    return 'title'\n",
        "  else:\n",
        "    return 'mixed'"
      ],
      "metadata": {
        "id": "fJ1VTeWRhJYS"
      },
      "execution_count": 52,
      "outputs": []
    },
    {
      "cell_type": "markdown",
      "source": [
        "# Getting the features and the labels of sentences"
      ],
      "metadata": {
        "id": "mrT3AtOUyo-O"
      }
    },
    {
      "cell_type": "code",
      "source": [
        "# prompt: # Define a function to get features for a sentence\n",
        "# # using the 'getFeaturesForOneWord' function.\n",
        "# def getFeaturesForOneSentence(sentence):\n",
        "#   sentence_list = sentence.split()\n",
        "#   return [getFeaturesForOneWord(sentence_list, pos) for pos in range(len(sentence_list))]\n",
        "\n",
        "# Define a function to get features for a sentence\n",
        "# using the 'getFeaturesForOneWord' function.\n",
        "def getFeaturesForOneSentence(sentence):\n",
        "  sentence_list = sentence.split()\n",
        "  return [getFeaturesForOneWord(sentence_list, pos) for pos in range(len(sentence_list))]"
      ],
      "metadata": {
        "id": "ySNQN6b8h0gl"
      },
      "execution_count": 53,
      "outputs": []
    },
    {
      "cell_type": "code",
      "source": [
        "# prompt: # Define a function to get the labels for a sentence.\n",
        "# def getLabelsInListForOneSentence(labels):\n",
        "#   return labels.split()\n",
        "\n",
        "# Define a function to get the labels for a sentence.\n",
        "def getLabelsForOneSentence(labels):\n",
        "  return labels.split()"
      ],
      "metadata": {
        "id": "PzCEFNkRjUU9"
      },
      "execution_count": 54,
      "outputs": []
    },
    {
      "cell_type": "code",
      "source": [
        "# prompt: # Apply function 'getFeaturesForOneSentence' to get features on a single sentence which is at index value 5 in train_sentences\n",
        "# example_sentence = train_sentences[5]\n",
        "# print(example_sentence)\n",
        "# features = getFeaturesForOneSentence(example_sentence)\n",
        "# features[2]\n",
        "\n",
        "example_sentence = train_sentences_split[5]\n",
        "print(example_sentence)\n",
        "features = getFeaturesForOneSentence(example_sentence)\n",
        "features[2]"
      ],
      "metadata": {
        "colab": {
          "base_uri": "https://localhost:8080/"
        },
        "id": "Im8djx7PjXQt",
        "outputId": "a7466971-7382-4818-e5bb-faa6e2e41bbe"
      },
      "execution_count": 55,
      "outputs": [
        {
          "output_type": "stream",
          "name": "stdout",
          "text": [
            "Cesarean\n",
            "rates\n",
            "at\n",
            "tertiary\n",
            "care\n",
            "hospitals\n",
            "should\n",
            "be\n",
            "compared\n",
            "with\n",
            "rates\n",
            "at\n",
            "community\n",
            "hospitals\n",
            "only\n",
            "after\n",
            "correcting\n",
            "for\n",
            "dissimilar\n",
            "patient\n",
            "groups\n",
            "or\n",
            "gestational\n",
            "age\n"
          ]
        },
        {
          "output_type": "execute_result",
          "data": {
            "text/plain": [
              "{'word': 'at',\n",
              " 'word_shape': 'all_lower',\n",
              " 'word_length': 2,\n",
              " 'prefix': 'at',\n",
              " 'suffix': 'at',\n",
              " 'pos_tag': 'IN',\n",
              " 'prev_word': 'rates',\n",
              " 'next_word': 'tertiary',\n",
              " 'prev_tag': '<START>',\n",
              " 'next_tag': '<END>',\n",
              " 'sentence_position': 0.08333333333333333}"
            ]
          },
          "metadata": {},
          "execution_count": 55
        }
      ]
    },
    {
      "cell_type": "markdown",
      "source": [
        "# Defining input and target variables"
      ],
      "metadata": {
        "id": "UNCfhybazBHr"
      }
    },
    {
      "cell_type": "code",
      "source": [
        "# prompt: X_train = [getFeaturesForOneSentence(sentence) for sentence in train_sentences]\n",
        "# Y_train = [getLabelsInListForOneSentence(labels) for labels in train_labels]\n",
        "# X_test = [getFeaturesForOneSentence(sentence) for sentence in test_sentences]\n",
        "# Y_test = [getLabelsInListForOneSentence(labels) for labels in test_labels]\n",
        "\n",
        "def getLabelsInListForOneSentence(labels):\n",
        "  return labels.split()\n",
        "\n",
        "X_train = [getFeaturesForOneSentence(sentence) for sentence in train_sentences_split]\n",
        "Y_train = [getLabelsInListForOneSentence(labels) for labels in train_labels_split]\n",
        "X_test = [getFeaturesForOneSentence(sentence) for sentence in test_sentences_split]\n",
        "Y_test = [getLabelsInListForOneSentence(labels) for labels in test_labels_split]"
      ],
      "metadata": {
        "id": "6DvsSX_LjcNq"
      },
      "execution_count": 56,
      "outputs": []
    },
    {
      "cell_type": "code",
      "source": [
        "import sklearn_crfsuite\n",
        "\n",
        "from sklearn_crfsuite import metrics"
      ],
      "metadata": {
        "id": "jEdX7IlNjkyf"
      },
      "execution_count": 57,
      "outputs": []
    },
    {
      "cell_type": "markdown",
      "source": [
        "# Building the model"
      ],
      "metadata": {
        "id": "vyeg5N3YzJSx"
      }
    },
    {
      "cell_type": "code",
      "source": [
        "# prompt: # Build the CRF model.\n",
        "# crf = sklearn_crfsuite.CRF(max_iterations=100)\n",
        "# crf.fit(X_train, Y_train)\n",
        "\n",
        "# Build the CRF model.\n",
        "crf = sklearn_crfsuite.CRF(\n",
        "    algorithm='lbfgs',\n",
        "    c1=0.1,\n",
        "    c2=0.1,\n",
        "    max_iterations=100,\n",
        "    all_possible_transitions=True\n",
        ")\n",
        "crf.fit(X_train, Y_train)"
      ],
      "metadata": {
        "colab": {
          "base_uri": "https://localhost:8080/",
          "height": 97
        },
        "id": "wkVGLR5ntS38",
        "outputId": "b79e38c5-b678-482e-a811-79da132ef8fe"
      },
      "execution_count": 58,
      "outputs": [
        {
          "output_type": "execute_result",
          "data": {
            "text/plain": [
              "CRF(algorithm='lbfgs', all_possible_transitions=True, c1=0.1, c2=0.1,\n",
              "    max_iterations=100)"
            ],
            "text/html": [
              "<style>#sk-container-id-2 {\n",
              "  /* Definition of color scheme common for light and dark mode */\n",
              "  --sklearn-color-text: black;\n",
              "  --sklearn-color-line: gray;\n",
              "  /* Definition of color scheme for unfitted estimators */\n",
              "  --sklearn-color-unfitted-level-0: #fff5e6;\n",
              "  --sklearn-color-unfitted-level-1: #f6e4d2;\n",
              "  --sklearn-color-unfitted-level-2: #ffe0b3;\n",
              "  --sklearn-color-unfitted-level-3: chocolate;\n",
              "  /* Definition of color scheme for fitted estimators */\n",
              "  --sklearn-color-fitted-level-0: #f0f8ff;\n",
              "  --sklearn-color-fitted-level-1: #d4ebff;\n",
              "  --sklearn-color-fitted-level-2: #b3dbfd;\n",
              "  --sklearn-color-fitted-level-3: cornflowerblue;\n",
              "\n",
              "  /* Specific color for light theme */\n",
              "  --sklearn-color-text-on-default-background: var(--sg-text-color, var(--theme-code-foreground, var(--jp-content-font-color1, black)));\n",
              "  --sklearn-color-background: var(--sg-background-color, var(--theme-background, var(--jp-layout-color0, white)));\n",
              "  --sklearn-color-border-box: var(--sg-text-color, var(--theme-code-foreground, var(--jp-content-font-color1, black)));\n",
              "  --sklearn-color-icon: #696969;\n",
              "\n",
              "  @media (prefers-color-scheme: dark) {\n",
              "    /* Redefinition of color scheme for dark theme */\n",
              "    --sklearn-color-text-on-default-background: var(--sg-text-color, var(--theme-code-foreground, var(--jp-content-font-color1, white)));\n",
              "    --sklearn-color-background: var(--sg-background-color, var(--theme-background, var(--jp-layout-color0, #111)));\n",
              "    --sklearn-color-border-box: var(--sg-text-color, var(--theme-code-foreground, var(--jp-content-font-color1, white)));\n",
              "    --sklearn-color-icon: #878787;\n",
              "  }\n",
              "}\n",
              "\n",
              "#sk-container-id-2 {\n",
              "  color: var(--sklearn-color-text);\n",
              "}\n",
              "\n",
              "#sk-container-id-2 pre {\n",
              "  padding: 0;\n",
              "}\n",
              "\n",
              "#sk-container-id-2 input.sk-hidden--visually {\n",
              "  border: 0;\n",
              "  clip: rect(1px 1px 1px 1px);\n",
              "  clip: rect(1px, 1px, 1px, 1px);\n",
              "  height: 1px;\n",
              "  margin: -1px;\n",
              "  overflow: hidden;\n",
              "  padding: 0;\n",
              "  position: absolute;\n",
              "  width: 1px;\n",
              "}\n",
              "\n",
              "#sk-container-id-2 div.sk-dashed-wrapped {\n",
              "  border: 1px dashed var(--sklearn-color-line);\n",
              "  margin: 0 0.4em 0.5em 0.4em;\n",
              "  box-sizing: border-box;\n",
              "  padding-bottom: 0.4em;\n",
              "  background-color: var(--sklearn-color-background);\n",
              "}\n",
              "\n",
              "#sk-container-id-2 div.sk-container {\n",
              "  /* jupyter's `normalize.less` sets `[hidden] { display: none; }`\n",
              "     but bootstrap.min.css set `[hidden] { display: none !important; }`\n",
              "     so we also need the `!important` here to be able to override the\n",
              "     default hidden behavior on the sphinx rendered scikit-learn.org.\n",
              "     See: https://github.com/scikit-learn/scikit-learn/issues/21755 */\n",
              "  display: inline-block !important;\n",
              "  position: relative;\n",
              "}\n",
              "\n",
              "#sk-container-id-2 div.sk-text-repr-fallback {\n",
              "  display: none;\n",
              "}\n",
              "\n",
              "div.sk-parallel-item,\n",
              "div.sk-serial,\n",
              "div.sk-item {\n",
              "  /* draw centered vertical line to link estimators */\n",
              "  background-image: linear-gradient(var(--sklearn-color-text-on-default-background), var(--sklearn-color-text-on-default-background));\n",
              "  background-size: 2px 100%;\n",
              "  background-repeat: no-repeat;\n",
              "  background-position: center center;\n",
              "}\n",
              "\n",
              "/* Parallel-specific style estimator block */\n",
              "\n",
              "#sk-container-id-2 div.sk-parallel-item::after {\n",
              "  content: \"\";\n",
              "  width: 100%;\n",
              "  border-bottom: 2px solid var(--sklearn-color-text-on-default-background);\n",
              "  flex-grow: 1;\n",
              "}\n",
              "\n",
              "#sk-container-id-2 div.sk-parallel {\n",
              "  display: flex;\n",
              "  align-items: stretch;\n",
              "  justify-content: center;\n",
              "  background-color: var(--sklearn-color-background);\n",
              "  position: relative;\n",
              "}\n",
              "\n",
              "#sk-container-id-2 div.sk-parallel-item {\n",
              "  display: flex;\n",
              "  flex-direction: column;\n",
              "}\n",
              "\n",
              "#sk-container-id-2 div.sk-parallel-item:first-child::after {\n",
              "  align-self: flex-end;\n",
              "  width: 50%;\n",
              "}\n",
              "\n",
              "#sk-container-id-2 div.sk-parallel-item:last-child::after {\n",
              "  align-self: flex-start;\n",
              "  width: 50%;\n",
              "}\n",
              "\n",
              "#sk-container-id-2 div.sk-parallel-item:only-child::after {\n",
              "  width: 0;\n",
              "}\n",
              "\n",
              "/* Serial-specific style estimator block */\n",
              "\n",
              "#sk-container-id-2 div.sk-serial {\n",
              "  display: flex;\n",
              "  flex-direction: column;\n",
              "  align-items: center;\n",
              "  background-color: var(--sklearn-color-background);\n",
              "  padding-right: 1em;\n",
              "  padding-left: 1em;\n",
              "}\n",
              "\n",
              "\n",
              "/* Toggleable style: style used for estimator/Pipeline/ColumnTransformer box that is\n",
              "clickable and can be expanded/collapsed.\n",
              "- Pipeline and ColumnTransformer use this feature and define the default style\n",
              "- Estimators will overwrite some part of the style using the `sk-estimator` class\n",
              "*/\n",
              "\n",
              "/* Pipeline and ColumnTransformer style (default) */\n",
              "\n",
              "#sk-container-id-2 div.sk-toggleable {\n",
              "  /* Default theme specific background. It is overwritten whether we have a\n",
              "  specific estimator or a Pipeline/ColumnTransformer */\n",
              "  background-color: var(--sklearn-color-background);\n",
              "}\n",
              "\n",
              "/* Toggleable label */\n",
              "#sk-container-id-2 label.sk-toggleable__label {\n",
              "  cursor: pointer;\n",
              "  display: block;\n",
              "  width: 100%;\n",
              "  margin-bottom: 0;\n",
              "  padding: 0.5em;\n",
              "  box-sizing: border-box;\n",
              "  text-align: center;\n",
              "}\n",
              "\n",
              "#sk-container-id-2 label.sk-toggleable__label-arrow:before {\n",
              "  /* Arrow on the left of the label */\n",
              "  content: \"▸\";\n",
              "  float: left;\n",
              "  margin-right: 0.25em;\n",
              "  color: var(--sklearn-color-icon);\n",
              "}\n",
              "\n",
              "#sk-container-id-2 label.sk-toggleable__label-arrow:hover:before {\n",
              "  color: var(--sklearn-color-text);\n",
              "}\n",
              "\n",
              "/* Toggleable content - dropdown */\n",
              "\n",
              "#sk-container-id-2 div.sk-toggleable__content {\n",
              "  max-height: 0;\n",
              "  max-width: 0;\n",
              "  overflow: hidden;\n",
              "  text-align: left;\n",
              "  /* unfitted */\n",
              "  background-color: var(--sklearn-color-unfitted-level-0);\n",
              "}\n",
              "\n",
              "#sk-container-id-2 div.sk-toggleable__content.fitted {\n",
              "  /* fitted */\n",
              "  background-color: var(--sklearn-color-fitted-level-0);\n",
              "}\n",
              "\n",
              "#sk-container-id-2 div.sk-toggleable__content pre {\n",
              "  margin: 0.2em;\n",
              "  border-radius: 0.25em;\n",
              "  color: var(--sklearn-color-text);\n",
              "  /* unfitted */\n",
              "  background-color: var(--sklearn-color-unfitted-level-0);\n",
              "}\n",
              "\n",
              "#sk-container-id-2 div.sk-toggleable__content.fitted pre {\n",
              "  /* unfitted */\n",
              "  background-color: var(--sklearn-color-fitted-level-0);\n",
              "}\n",
              "\n",
              "#sk-container-id-2 input.sk-toggleable__control:checked~div.sk-toggleable__content {\n",
              "  /* Expand drop-down */\n",
              "  max-height: 200px;\n",
              "  max-width: 100%;\n",
              "  overflow: auto;\n",
              "}\n",
              "\n",
              "#sk-container-id-2 input.sk-toggleable__control:checked~label.sk-toggleable__label-arrow:before {\n",
              "  content: \"▾\";\n",
              "}\n",
              "\n",
              "/* Pipeline/ColumnTransformer-specific style */\n",
              "\n",
              "#sk-container-id-2 div.sk-label input.sk-toggleable__control:checked~label.sk-toggleable__label {\n",
              "  color: var(--sklearn-color-text);\n",
              "  background-color: var(--sklearn-color-unfitted-level-2);\n",
              "}\n",
              "\n",
              "#sk-container-id-2 div.sk-label.fitted input.sk-toggleable__control:checked~label.sk-toggleable__label {\n",
              "  background-color: var(--sklearn-color-fitted-level-2);\n",
              "}\n",
              "\n",
              "/* Estimator-specific style */\n",
              "\n",
              "/* Colorize estimator box */\n",
              "#sk-container-id-2 div.sk-estimator input.sk-toggleable__control:checked~label.sk-toggleable__label {\n",
              "  /* unfitted */\n",
              "  background-color: var(--sklearn-color-unfitted-level-2);\n",
              "}\n",
              "\n",
              "#sk-container-id-2 div.sk-estimator.fitted input.sk-toggleable__control:checked~label.sk-toggleable__label {\n",
              "  /* fitted */\n",
              "  background-color: var(--sklearn-color-fitted-level-2);\n",
              "}\n",
              "\n",
              "#sk-container-id-2 div.sk-label label.sk-toggleable__label,\n",
              "#sk-container-id-2 div.sk-label label {\n",
              "  /* The background is the default theme color */\n",
              "  color: var(--sklearn-color-text-on-default-background);\n",
              "}\n",
              "\n",
              "/* On hover, darken the color of the background */\n",
              "#sk-container-id-2 div.sk-label:hover label.sk-toggleable__label {\n",
              "  color: var(--sklearn-color-text);\n",
              "  background-color: var(--sklearn-color-unfitted-level-2);\n",
              "}\n",
              "\n",
              "/* Label box, darken color on hover, fitted */\n",
              "#sk-container-id-2 div.sk-label.fitted:hover label.sk-toggleable__label.fitted {\n",
              "  color: var(--sklearn-color-text);\n",
              "  background-color: var(--sklearn-color-fitted-level-2);\n",
              "}\n",
              "\n",
              "/* Estimator label */\n",
              "\n",
              "#sk-container-id-2 div.sk-label label {\n",
              "  font-family: monospace;\n",
              "  font-weight: bold;\n",
              "  display: inline-block;\n",
              "  line-height: 1.2em;\n",
              "}\n",
              "\n",
              "#sk-container-id-2 div.sk-label-container {\n",
              "  text-align: center;\n",
              "}\n",
              "\n",
              "/* Estimator-specific */\n",
              "#sk-container-id-2 div.sk-estimator {\n",
              "  font-family: monospace;\n",
              "  border: 1px dotted var(--sklearn-color-border-box);\n",
              "  border-radius: 0.25em;\n",
              "  box-sizing: border-box;\n",
              "  margin-bottom: 0.5em;\n",
              "  /* unfitted */\n",
              "  background-color: var(--sklearn-color-unfitted-level-0);\n",
              "}\n",
              "\n",
              "#sk-container-id-2 div.sk-estimator.fitted {\n",
              "  /* fitted */\n",
              "  background-color: var(--sklearn-color-fitted-level-0);\n",
              "}\n",
              "\n",
              "/* on hover */\n",
              "#sk-container-id-2 div.sk-estimator:hover {\n",
              "  /* unfitted */\n",
              "  background-color: var(--sklearn-color-unfitted-level-2);\n",
              "}\n",
              "\n",
              "#sk-container-id-2 div.sk-estimator.fitted:hover {\n",
              "  /* fitted */\n",
              "  background-color: var(--sklearn-color-fitted-level-2);\n",
              "}\n",
              "\n",
              "/* Specification for estimator info (e.g. \"i\" and \"?\") */\n",
              "\n",
              "/* Common style for \"i\" and \"?\" */\n",
              "\n",
              ".sk-estimator-doc-link,\n",
              "a:link.sk-estimator-doc-link,\n",
              "a:visited.sk-estimator-doc-link {\n",
              "  float: right;\n",
              "  font-size: smaller;\n",
              "  line-height: 1em;\n",
              "  font-family: monospace;\n",
              "  background-color: var(--sklearn-color-background);\n",
              "  border-radius: 1em;\n",
              "  height: 1em;\n",
              "  width: 1em;\n",
              "  text-decoration: none !important;\n",
              "  margin-left: 1ex;\n",
              "  /* unfitted */\n",
              "  border: var(--sklearn-color-unfitted-level-1) 1pt solid;\n",
              "  color: var(--sklearn-color-unfitted-level-1);\n",
              "}\n",
              "\n",
              ".sk-estimator-doc-link.fitted,\n",
              "a:link.sk-estimator-doc-link.fitted,\n",
              "a:visited.sk-estimator-doc-link.fitted {\n",
              "  /* fitted */\n",
              "  border: var(--sklearn-color-fitted-level-1) 1pt solid;\n",
              "  color: var(--sklearn-color-fitted-level-1);\n",
              "}\n",
              "\n",
              "/* On hover */\n",
              "div.sk-estimator:hover .sk-estimator-doc-link:hover,\n",
              ".sk-estimator-doc-link:hover,\n",
              "div.sk-label-container:hover .sk-estimator-doc-link:hover,\n",
              ".sk-estimator-doc-link:hover {\n",
              "  /* unfitted */\n",
              "  background-color: var(--sklearn-color-unfitted-level-3);\n",
              "  color: var(--sklearn-color-background);\n",
              "  text-decoration: none;\n",
              "}\n",
              "\n",
              "div.sk-estimator.fitted:hover .sk-estimator-doc-link.fitted:hover,\n",
              ".sk-estimator-doc-link.fitted:hover,\n",
              "div.sk-label-container:hover .sk-estimator-doc-link.fitted:hover,\n",
              ".sk-estimator-doc-link.fitted:hover {\n",
              "  /* fitted */\n",
              "  background-color: var(--sklearn-color-fitted-level-3);\n",
              "  color: var(--sklearn-color-background);\n",
              "  text-decoration: none;\n",
              "}\n",
              "\n",
              "/* Span, style for the box shown on hovering the info icon */\n",
              ".sk-estimator-doc-link span {\n",
              "  display: none;\n",
              "  z-index: 9999;\n",
              "  position: relative;\n",
              "  font-weight: normal;\n",
              "  right: .2ex;\n",
              "  padding: .5ex;\n",
              "  margin: .5ex;\n",
              "  width: min-content;\n",
              "  min-width: 20ex;\n",
              "  max-width: 50ex;\n",
              "  color: var(--sklearn-color-text);\n",
              "  box-shadow: 2pt 2pt 4pt #999;\n",
              "  /* unfitted */\n",
              "  background: var(--sklearn-color-unfitted-level-0);\n",
              "  border: .5pt solid var(--sklearn-color-unfitted-level-3);\n",
              "}\n",
              "\n",
              ".sk-estimator-doc-link.fitted span {\n",
              "  /* fitted */\n",
              "  background: var(--sklearn-color-fitted-level-0);\n",
              "  border: var(--sklearn-color-fitted-level-3);\n",
              "}\n",
              "\n",
              ".sk-estimator-doc-link:hover span {\n",
              "  display: block;\n",
              "}\n",
              "\n",
              "/* \"?\"-specific style due to the `<a>` HTML tag */\n",
              "\n",
              "#sk-container-id-2 a.estimator_doc_link {\n",
              "  float: right;\n",
              "  font-size: 1rem;\n",
              "  line-height: 1em;\n",
              "  font-family: monospace;\n",
              "  background-color: var(--sklearn-color-background);\n",
              "  border-radius: 1rem;\n",
              "  height: 1rem;\n",
              "  width: 1rem;\n",
              "  text-decoration: none;\n",
              "  /* unfitted */\n",
              "  color: var(--sklearn-color-unfitted-level-1);\n",
              "  border: var(--sklearn-color-unfitted-level-1) 1pt solid;\n",
              "}\n",
              "\n",
              "#sk-container-id-2 a.estimator_doc_link.fitted {\n",
              "  /* fitted */\n",
              "  border: var(--sklearn-color-fitted-level-1) 1pt solid;\n",
              "  color: var(--sklearn-color-fitted-level-1);\n",
              "}\n",
              "\n",
              "/* On hover */\n",
              "#sk-container-id-2 a.estimator_doc_link:hover {\n",
              "  /* unfitted */\n",
              "  background-color: var(--sklearn-color-unfitted-level-3);\n",
              "  color: var(--sklearn-color-background);\n",
              "  text-decoration: none;\n",
              "}\n",
              "\n",
              "#sk-container-id-2 a.estimator_doc_link.fitted:hover {\n",
              "  /* fitted */\n",
              "  background-color: var(--sklearn-color-fitted-level-3);\n",
              "}\n",
              "</style><div id=\"sk-container-id-2\" class=\"sk-top-container\"><div class=\"sk-text-repr-fallback\"><pre>CRF(algorithm=&#x27;lbfgs&#x27;, all_possible_transitions=True, c1=0.1, c2=0.1,\n",
              "    max_iterations=100)</pre><b>In a Jupyter environment, please rerun this cell to show the HTML representation or trust the notebook. <br />On GitHub, the HTML representation is unable to render, please try loading this page with nbviewer.org.</b></div><div class=\"sk-container\" hidden><div class=\"sk-item\"><div class=\"sk-estimator fitted sk-toggleable\"><input class=\"sk-toggleable__control sk-hidden--visually\" id=\"sk-estimator-id-2\" type=\"checkbox\" checked><label for=\"sk-estimator-id-2\" class=\"sk-toggleable__label fitted sk-toggleable__label-arrow fitted\">&nbsp;CRF<span class=\"sk-estimator-doc-link fitted\">i<span>Fitted</span></span></label><div class=\"sk-toggleable__content fitted\"><pre>CRF(algorithm=&#x27;lbfgs&#x27;, all_possible_transitions=True, c1=0.1, c2=0.1,\n",
              "    max_iterations=100)</pre></div> </div></div></div></div>"
            ]
          },
          "metadata": {},
          "execution_count": 58
        }
      ]
    },
    {
      "cell_type": "markdown",
      "source": [
        "# Evaluation"
      ],
      "metadata": {
        "id": "MUEpxbHc0ezV"
      }
    },
    {
      "cell_type": "code",
      "source": [
        "# prompt: # Calculate the f1 score using the test data\n",
        "# Y_pred = crf.predict(X_test)\n",
        "# metrics.flat_f1_score(Y_test, Y_pred, average='weighted')\n",
        "\n",
        "# Calculate the f1 score using the test data\n",
        "Y_pred = crf.predict(X_test)\n",
        "f1_score = metrics.flat_f1_score(Y_test, Y_pred, average='weighted')\n",
        "print(f\"F1 score: {f1_score}\")"
      ],
      "metadata": {
        "colab": {
          "base_uri": "https://localhost:8080/"
        },
        "id": "VUweInq8udGs",
        "outputId": "27f44a96-d332-4e06-dfbf-d5c1a6bfa2a2"
      },
      "execution_count": 59,
      "outputs": [
        {
          "output_type": "stream",
          "name": "stdout",
          "text": [
            "F1 score: 0.9273980063381014\n"
          ]
        }
      ]
    },
    {
      "cell_type": "code",
      "source": [
        "# prompt: Identifying the d and t using a custom NER:\n",
        "\n",
        "# ... (Your existing code)\n",
        "\n",
        "# # Prediction on a new sentence\n",
        "\n",
        "def predict_d_and_t(sentence):\n",
        "    \"\"\"Predicts 'd' and 't' tags for a given sentence.\"\"\"\n",
        "    features = getFeaturesForOneSentence(sentence)\n",
        "    predicted_labels = crf.predict_single(features)\n",
        "\n",
        "    d_indices = [i for i, label in enumerate(predicted_labels) if label == 'd']\n",
        "    t_indices = [i for i, label in enumerate(predicted_labels) if label == 't']\n",
        "\n",
        "    # Extract words corresponding to 'd' and 't' tags\n",
        "    words = sentence.split()\n",
        "    d_words = [words[i] for i in d_indices]\n",
        "    t_words = [words[i] for i in t_indices]\n",
        "\n",
        "    return d_words, t_words\n",
        "\n",
        "# Example usage:\n",
        "new_sentence = \"This is an example sentence to test the model.\"  # Replace with your sentence\n",
        "d_tags, t_tags = predict_d_and_t(new_sentence)\n",
        "\n",
        "print(\"Predicted 'd' tags:\", d_tags)\n",
        "print(\"Predicted 't' tags:\", t_tags)"
      ],
      "metadata": {
        "colab": {
          "base_uri": "https://localhost:8080/"
        },
        "id": "2ssuBvvhzy6v",
        "outputId": "f18173fa-20c8-4276-c614-87c42c6de98e"
      },
      "execution_count": 60,
      "outputs": [
        {
          "output_type": "stream",
          "name": "stdout",
          "text": [
            "Predicted 'd' tags: []\n",
            "Predicted 't' tags: []\n"
          ]
        }
      ]
    },
    {
      "cell_type": "code",
      "source": [
        "!pip install sklearn-crfsuite  # Make sure you install the correct package name\n",
        "from sklearn_crfsuite import metrics\n",
        "from sklearn_crfsuite import CRF\n",
        "\n",
        "# Import the necessary functions directly from sklearn_crfsuite\n",
        "from collections import Counter\n",
        "from sklearn_crfsuite import CRF\n",
        "\n",
        "def print_transitions(trans_features):\n",
        "    \"\"\"Print the transitions with their weights.\"\"\"\n",
        "    for (label_from, label_to), weight in trans_features:\n",
        "        print(\"%-6s -> %-7s %0.6f\" % (label_from, label_to, weight))\n",
        "\n",
        "def print_state_features(state_features):\n",
        "    \"\"\"Print the state features with their weights.\"\"\"\n",
        "    for (attr, label), weight in state_features:\n",
        "        print(\"%0.6f %-6s %s\" % (weight, label, attr))"
      ],
      "metadata": {
        "colab": {
          "base_uri": "https://localhost:8080/"
        },
        "id": "XGWefwpv1cgQ",
        "outputId": "de69c7db-f866-4dc1-d870-11bb8795577c"
      },
      "execution_count": 68,
      "outputs": [
        {
          "output_type": "stream",
          "name": "stdout",
          "text": [
            "Requirement already satisfied: sklearn-crfsuite in /usr/local/lib/python3.10/dist-packages (0.5.0)\n",
            "Requirement already satisfied: python-crfsuite>=0.9.7 in /usr/local/lib/python3.10/dist-packages (from sklearn-crfsuite) (0.9.11)\n",
            "Requirement already satisfied: scikit-learn>=0.24.0 in /usr/local/lib/python3.10/dist-packages (from sklearn-crfsuite) (1.5.2)\n",
            "Requirement already satisfied: tabulate>=0.4.2 in /usr/local/lib/python3.10/dist-packages (from sklearn-crfsuite) (0.9.0)\n",
            "Requirement already satisfied: tqdm>=2.0 in /usr/local/lib/python3.10/dist-packages (from sklearn-crfsuite) (4.66.5)\n",
            "Requirement already satisfied: numpy>=1.19.5 in /usr/local/lib/python3.10/dist-packages (from scikit-learn>=0.24.0->sklearn-crfsuite) (1.26.4)\n",
            "Requirement already satisfied: scipy>=1.6.0 in /usr/local/lib/python3.10/dist-packages (from scikit-learn>=0.24.0->sklearn-crfsuite) (1.13.1)\n",
            "Requirement already satisfied: joblib>=1.2.0 in /usr/local/lib/python3.10/dist-packages (from scikit-learn>=0.24.0->sklearn-crfsuite) (1.4.2)\n",
            "Requirement already satisfied: threadpoolctl>=3.1.0 in /usr/local/lib/python3.10/dist-packages (from scikit-learn>=0.24.0->sklearn-crfsuite) (3.5.0)\n"
          ]
        }
      ]
    },
    {
      "cell_type": "code",
      "source": [
        "# prompt: create a dictionary using d and t from the dataset\n",
        "\n",
        "# Create a dictionary to store the predicted 'd' and 't' words for each sentence in the test set.\n",
        "d_t_dict = {}\n",
        "\n",
        "for i, sentence in enumerate(test_sentences_split):\n",
        "    d_words, t_words = predict_d_and_t(sentence)\n",
        "    d_t_dict[i] = {'d': d_words, 't': t_words}\n",
        "\n",
        "# Now you can access the 'd' and 't' words for each sentence using the index as the key.\n",
        "# For example, to get the 'd' words for the 5th sentence:\n",
        "# print(d_t_dict[4]['d'])"
      ],
      "metadata": {
        "id": "PoQagLK31fcP"
      },
      "execution_count": 88,
      "outputs": []
    },
    {
      "cell_type": "code",
      "source": [
        "def predict_d_and_t_with_mapping(sentence):\n",
        "    \"\"\"Predicts 'd' and 't' tags for a given sentence and creates a disease-treatment mapping.\n",
        "\n",
        "    Args:\n",
        "        sentence: The input sentence.\n",
        "\n",
        "    Returns:\n",
        "        A dictionary mapping disease words to a list of treatment words.\n",
        "    \"\"\"\n",
        "\n",
        "    features = getFeaturesForOneSentence(sentence)\n",
        "    predicted_labels = crf.predict_single(features)\n",
        "\n",
        "    words = sentence.split()\n",
        "    disease_treatment_map = {}\n",
        "    current_disease = None\n",
        "\n",
        "    for i, label in enumerate(predicted_labels):\n",
        "        if label == 'd':\n",
        "            current_disease = words[i]\n",
        "            disease_treatment_map[current_disease] = []\n",
        "        elif label == 't' and current_disease:\n",
        "            disease_treatment_map[current_disease].append(words[i])\n",
        "\n",
        "    return disease_treatment_map\n",
        "\n",
        "# Example usage:\n",
        "new_sentence = \"This is an example sentence to test the model.\"  # Replace with your sentence\n",
        "disease_treatment_map = predict_d_and_t_with_mapping(new_sentence)\n",
        "\n",
        "print(disease_treatment_map)"
      ],
      "metadata": {
        "colab": {
          "base_uri": "https://localhost:8080/"
        },
        "id": "3epFyhFI1jqg",
        "outputId": "e9d4303a-b19f-4e9d-bcff-e7f2267aeddb"
      },
      "execution_count": 90,
      "outputs": [
        {
          "output_type": "stream",
          "name": "stdout",
          "text": [
            "{}\n"
          ]
        }
      ]
    },
    {
      "cell_type": "code",
      "source": [],
      "metadata": {
        "id": "iONdkEpo2PHo"
      },
      "execution_count": 82,
      "outputs": []
    },
    {
      "cell_type": "code",
      "source": [
        "print(create_d_t_mapping)"
      ],
      "metadata": {
        "colab": {
          "base_uri": "https://localhost:8080/"
        },
        "id": "LhhAKSW_2_-0",
        "outputId": "5f659c1f-f09a-49ff-f969-4683833d1b95"
      },
      "execution_count": 84,
      "outputs": [
        {
          "output_type": "stream",
          "name": "stdout",
          "text": [
            "<function create_d_t_mapping at 0x78d912f3fe20>\n"
          ]
        }
      ]
    },
    {
      "cell_type": "code",
      "source": [],
      "metadata": {
        "id": "ZUrAW1eN3YY5"
      },
      "execution_count": null,
      "outputs": []
    }
  ]
}